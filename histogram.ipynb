{
 "cells": [
  {
   "cell_type": "code",
   "execution_count": 122,
   "metadata": {},
   "outputs": [],
   "source": [
    "import pandas as pd\n",
    "import matplotlib.pyplot as plt\n",
    "from scipy.stats import ks_2samp"
   ]
  },
  {
   "cell_type": "code",
   "execution_count": 123,
   "metadata": {},
   "outputs": [],
   "source": [
    "df = pd.read_csv('datasets/dataset_train.csv')\n",
    "df.drop('Index',\n",
    "\t\taxis=1,\n",
    "\t\tinplace=True)"
   ]
  },
  {
   "cell_type": "code",
   "execution_count": 124,
   "metadata": {},
   "outputs": [],
   "source": [
    "courses = df.columns[5:]"
   ]
  },
  {
   "cell_type": "code",
   "execution_count": 125,
   "metadata": {},
   "outputs": [],
   "source": [
    "houses = ['Hufflepuff', 'Ravenclaw', 'Slytherin']"
   ]
  },
  {
   "cell_type": "code",
   "execution_count": 126,
   "metadata": {},
   "outputs": [],
   "source": [
    "dist_comp = pd.DataFrame(index = range(len(courses)),\n",
    "                        columns=range(len(houses)))"
   ]
  },
  {
   "cell_type": "code",
   "execution_count": 127,
   "metadata": {},
   "outputs": [],
   "source": [
    "dist_comp.columns = houses\n",
    "dist_comp.index = courses"
   ]
  },
  {
   "cell_type": "code",
   "execution_count": 128,
   "metadata": {},
   "outputs": [],
   "source": [
    "for house in range(len(houses)):\n",
    "\tfor course in range(len(courses)):\n",
    "\t\tdist_comp.iloc[course, house] = ks_2samp(df[courses[course]][df['Hogwarts House'] == 'Gryffindor'], df[courses[course]][df['Hogwarts House'] == houses[house]]).pvalue"
   ]
  },
  {
   "cell_type": "code",
   "execution_count": 130,
   "metadata": {},
   "outputs": [
    {
     "data": {
      "text/html": [
       "<div>\n",
       "<style scoped>\n",
       "    .dataframe tbody tr th:only-of-type {\n",
       "        vertical-align: middle;\n",
       "    }\n",
       "\n",
       "    .dataframe tbody tr th {\n",
       "        vertical-align: top;\n",
       "    }\n",
       "\n",
       "    .dataframe thead th {\n",
       "        text-align: right;\n",
       "    }\n",
       "</style>\n",
       "<table border=\"1\" class=\"dataframe\">\n",
       "  <thead>\n",
       "    <tr style=\"text-align: right;\">\n",
       "      <th></th>\n",
       "      <th>Hufflepuff</th>\n",
       "      <th>Ravenclaw</th>\n",
       "      <th>Slytherin</th>\n",
       "    </tr>\n",
       "  </thead>\n",
       "  <tbody>\n",
       "    <tr>\n",
       "      <th>Arithmancy</th>\n",
       "      <td>0.48023178</td>\n",
       "      <td>0.10635805</td>\n",
       "      <td>0.77752973</td>\n",
       "    </tr>\n",
       "    <tr>\n",
       "      <th>Astronomy</th>\n",
       "      <td>0.82186846</td>\n",
       "      <td>0.0</td>\n",
       "      <td>0.0</td>\n",
       "    </tr>\n",
       "    <tr>\n",
       "      <th>Herbology</th>\n",
       "      <td>0.0</td>\n",
       "      <td>0.0</td>\n",
       "      <td>0.3169707</td>\n",
       "    </tr>\n",
       "    <tr>\n",
       "      <th>Defense Against the Dark Arts</th>\n",
       "      <td>0.679594</td>\n",
       "      <td>0.0</td>\n",
       "      <td>0.0</td>\n",
       "    </tr>\n",
       "    <tr>\n",
       "      <th>Divination</th>\n",
       "      <td>0.087405</td>\n",
       "      <td>0.20246058</td>\n",
       "      <td>0.0</td>\n",
       "    </tr>\n",
       "    <tr>\n",
       "      <th>Muggle Studies</th>\n",
       "      <td>0.28079279</td>\n",
       "      <td>0.0</td>\n",
       "      <td>0.00812605</td>\n",
       "    </tr>\n",
       "    <tr>\n",
       "      <th>Ancient Runes</th>\n",
       "      <td>0.0</td>\n",
       "      <td>0.63592098</td>\n",
       "      <td>0.0</td>\n",
       "    </tr>\n",
       "    <tr>\n",
       "      <th>History of Magic</th>\n",
       "      <td>0.0</td>\n",
       "      <td>0.0</td>\n",
       "      <td>0.0</td>\n",
       "    </tr>\n",
       "    <tr>\n",
       "      <th>Transfiguration</th>\n",
       "      <td>0.0</td>\n",
       "      <td>0.0</td>\n",
       "      <td>0.0</td>\n",
       "    </tr>\n",
       "    <tr>\n",
       "      <th>Potions</th>\n",
       "      <td>0.0</td>\n",
       "      <td>0.0</td>\n",
       "      <td>0.0</td>\n",
       "    </tr>\n",
       "    <tr>\n",
       "      <th>Care of Magical Creatures</th>\n",
       "      <td>0.09897861</td>\n",
       "      <td>0.27508517</td>\n",
       "      <td>0.7461731</td>\n",
       "    </tr>\n",
       "    <tr>\n",
       "      <th>Charms</th>\n",
       "      <td>0.0</td>\n",
       "      <td>0.0</td>\n",
       "      <td>0.0</td>\n",
       "    </tr>\n",
       "    <tr>\n",
       "      <th>Flying</th>\n",
       "      <td>0.0</td>\n",
       "      <td>0.0</td>\n",
       "      <td>0.0</td>\n",
       "    </tr>\n",
       "  </tbody>\n",
       "</table>\n",
       "</div>"
      ],
      "text/plain": [
       "                               Hufflepuff   Ravenclaw   Slytherin\n",
       "Arithmancy                     0.48023178  0.10635805  0.77752973\n",
       "Astronomy                      0.82186846         0.0         0.0\n",
       "Herbology                             0.0         0.0   0.3169707\n",
       "Defense Against the Dark Arts    0.679594         0.0         0.0\n",
       "Divination                       0.087405  0.20246058         0.0\n",
       "Muggle Studies                 0.28079279         0.0  0.00812605\n",
       "Ancient Runes                         0.0  0.63592098         0.0\n",
       "History of Magic                      0.0         0.0         0.0\n",
       "Transfiguration                       0.0         0.0         0.0\n",
       "Potions                               0.0         0.0         0.0\n",
       "Care of Magical Creatures      0.09897861  0.27508517   0.7461731\n",
       "Charms                                0.0         0.0         0.0\n",
       "Flying                                0.0         0.0         0.0"
      ]
     },
     "execution_count": 130,
     "metadata": {},
     "output_type": "execute_result"
    }
   ],
   "source": [
    "dist_comp"
   ]
  },
  {
   "cell_type": "code",
   "execution_count": 131,
   "metadata": {},
   "outputs": [],
   "source": [
    "courses2 = ['Arithmancy', 'Care of Magical Creatures']"
   ]
  },
  {
   "cell_type": "code",
   "execution_count": 132,
   "metadata": {},
   "outputs": [],
   "source": [
    "houses2 = ['Ravenclaw', 'Slytherin']"
   ]
  },
  {
   "cell_type": "code",
   "execution_count": 133,
   "metadata": {},
   "outputs": [],
   "source": [
    "dist_comp2 = pd.DataFrame(index = range(len(courses2)),\n",
    "                        columns=range(len(houses2)))\n",
    "dist_comp2.columns = houses2\n",
    "dist_comp2.index = courses2"
   ]
  },
  {
   "cell_type": "code",
   "execution_count": 134,
   "metadata": {},
   "outputs": [],
   "source": [
    "for house in range(len(houses2)):\n",
    "\tfor course in range(len(courses2)):\n",
    "\t\tdist_comp2.iloc[course, house] = ks_2samp(df[courses2[course]][df['Hogwarts House'] == 'Hufflepuff'], df[courses2[course]][df['Hogwarts House'] == houses2[house]]).pvalue"
   ]
  },
  {
   "cell_type": "code",
   "execution_count": 135,
   "metadata": {},
   "outputs": [
    {
     "data": {
      "text/html": [
       "<div>\n",
       "<style scoped>\n",
       "    .dataframe tbody tr th:only-of-type {\n",
       "        vertical-align: middle;\n",
       "    }\n",
       "\n",
       "    .dataframe tbody tr th {\n",
       "        vertical-align: top;\n",
       "    }\n",
       "\n",
       "    .dataframe thead th {\n",
       "        text-align: right;\n",
       "    }\n",
       "</style>\n",
       "<table border=\"1\" class=\"dataframe\">\n",
       "  <thead>\n",
       "    <tr style=\"text-align: right;\">\n",
       "      <th></th>\n",
       "      <th>Ravenclaw</th>\n",
       "      <th>Slytherin</th>\n",
       "    </tr>\n",
       "  </thead>\n",
       "  <tbody>\n",
       "    <tr>\n",
       "      <th>Arithmancy</th>\n",
       "      <td>0.14296928</td>\n",
       "      <td>0.53540244</td>\n",
       "    </tr>\n",
       "    <tr>\n",
       "      <th>Care of Magical Creatures</th>\n",
       "      <td>0.70814244</td>\n",
       "      <td>0.32733672</td>\n",
       "    </tr>\n",
       "  </tbody>\n",
       "</table>\n",
       "</div>"
      ],
      "text/plain": [
       "                            Ravenclaw   Slytherin\n",
       "Arithmancy                 0.14296928  0.53540244\n",
       "Care of Magical Creatures  0.70814244  0.32733672"
      ]
     },
     "execution_count": 135,
     "metadata": {},
     "output_type": "execute_result"
    }
   ],
   "source": [
    "dist_comp2"
   ]
  },
  {
   "cell_type": "code",
   "execution_count": 139,
   "metadata": {},
   "outputs": [],
   "source": [
    "dist_comp3 = pd.DataFrame(index = range(len(courses2)),\n",
    "                        columns=range(1))\n",
    "dist_comp3.columns = ['Slytherin']\n",
    "dist_comp3.index = courses2"
   ]
  },
  {
   "cell_type": "code",
   "execution_count": 140,
   "metadata": {},
   "outputs": [],
   "source": [
    "for course in range(len(courses2)):\n",
    "\tdist_comp3.iloc[course, 0] = ks_2samp(df[courses2[course]][df['Hogwarts House'] == 'Ravenclaw'], df[courses2[course]][df['Hogwarts House'] == 'Slytherin']).pvalue"
   ]
  },
  {
   "cell_type": "code",
   "execution_count": 141,
   "metadata": {},
   "outputs": [
    {
     "data": {
      "text/html": [
       "<div>\n",
       "<style scoped>\n",
       "    .dataframe tbody tr th:only-of-type {\n",
       "        vertical-align: middle;\n",
       "    }\n",
       "\n",
       "    .dataframe tbody tr th {\n",
       "        vertical-align: top;\n",
       "    }\n",
       "\n",
       "    .dataframe thead th {\n",
       "        text-align: right;\n",
       "    }\n",
       "</style>\n",
       "<table border=\"1\" class=\"dataframe\">\n",
       "  <thead>\n",
       "    <tr style=\"text-align: right;\">\n",
       "      <th></th>\n",
       "      <th>Slytherin</th>\n",
       "    </tr>\n",
       "  </thead>\n",
       "  <tbody>\n",
       "    <tr>\n",
       "      <th>Arithmancy</th>\n",
       "      <td>0.30155838</td>\n",
       "    </tr>\n",
       "    <tr>\n",
       "      <th>Care of Magical Creatures</th>\n",
       "      <td>0.44462004</td>\n",
       "    </tr>\n",
       "  </tbody>\n",
       "</table>\n",
       "</div>"
      ],
      "text/plain": [
       "                            Slytherin\n",
       "Arithmancy                 0.30155838\n",
       "Care of Magical Creatures  0.44462004"
      ]
     },
     "execution_count": 141,
     "metadata": {},
     "output_type": "execute_result"
    }
   ],
   "source": [
    "dist_comp3"
   ]
  },
  {
   "cell_type": "code",
   "execution_count": 164,
   "metadata": {},
   "outputs": [
    {
     "data": {
      "image/png": "[encoded data removed]",
      "text/plain": [
       "<Figure size 1296x720 with 4 Axes>"
      ]
     },
     "metadata": {
      "needs_background": "light"
     },
     "output_type": "display_data"
    }
   ],
   "source": [
    "fig, ((ax0, ax1), (ax2, ax3)) = plt.subplots(nrows=2, ncols=2)\n",
    "ax0.hist(df['Care of Magical Creatures'][df['Hogwarts House'] == 'Gryffindor'], 50, histtype='bar')\n",
    "ax0.set_title('Gryffindor')\n",
    "ax1.hist(df['Care of Magical Creatures'][df['Hogwarts House'] == 'Hufflepuff'], 50, histtype='bar')\n",
    "ax1.set_title('Hufflepuff')\n",
    "ax2.hist(df['Care of Magical Creatures'][df['Hogwarts House'] == 'Ravenclaw'], 50, histtype='bar')\n",
    "ax2.set_title('Ravenclaw')\n",
    "ax3.hist(df['Care of Magical Creatures'][df['Hogwarts House'] == 'Slytherin'], 50, histtype='bar')\n",
    "ax3.set_title('Slytherin')\n",
    "fig.set_size_inches(18, 10)\n",
    "fig.suptitle('Care of Magical Creatures distribution by House');"
   ]
  }
 ],
 "metadata": {
  "kernelspec": {
   "display_name": "base",
   "language": "python",
   "name": "python3"
  },
  "language_info": {
   "codemirror_mode": {
    "name": "ipython",
    "version": 3
   },
   "file_extension": ".py",
   "mimetype": "text/x-python",
   "name": "python",
   "nbconvert_exporter": "python",
   "pygments_lexer": "ipython3",
   "version": "3.9.5"
  },
  "orig_nbformat": 4
 },
 "nbformat": 4,
 "nbformat_minor": 2
}
