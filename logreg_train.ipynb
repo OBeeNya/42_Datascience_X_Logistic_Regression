{
 "cells": [
  {
   "cell_type": "code",
   "execution_count": 223,
   "metadata": {},
   "outputs": [],
   "source": [
    "import pandas as pd\n",
    "import numpy as np\n",
    "import matplotlib.pyplot as plt"
   ]
  },
  {
   "cell_type": "code",
   "execution_count": 224,
   "metadata": {},
   "outputs": [],
   "source": [
    "df = pd.read_csv('datasets/dataset_train.csv').sample(frac=1, random_state=42)"
   ]
  },
  {
   "cell_type": "code",
   "execution_count": 225,
   "metadata": {},
   "outputs": [
    {
     "name": "stderr",
     "output_type": "stream",
     "text": [
      "/Users/benjamin/miniconda3/lib/python3.9/site-packages/pandas/core/generic.py:6392: SettingWithCopyWarning: \n",
      "A value is trying to be set on a copy of a slice from a DataFrame\n",
      "\n",
      "See the caveats in the documentation: https://pandas.pydata.org/pandas-docs/stable/user_guide/indexing.html#returning-a-view-versus-a-copy\n",
      "  return self._update_inplace(result)\n"
     ]
    }
   ],
   "source": [
    "X = df[['Ancient Runes', 'Herbology', 'Defense Against the Dark Arts']]\n",
    "for col in X.columns:\n",
    "\tX[col].fillna((X[col].mean()), inplace=True)\n",
    "Y = df['Hogwarts House']"
   ]
  },
  {
   "cell_type": "code",
   "execution_count": 226,
   "metadata": {},
   "outputs": [],
   "source": [
    "X_train = X.iloc[:int(len(X)*0.8), :]\n",
    "Y_train = Y.iloc[:int(len(Y)*0.8)]\n",
    "X_test = X.iloc[int(len(X)*0.8):, :]\n",
    "Y_test = Y.iloc[int(len(Y)*0.8):]"
   ]
  },
  {
   "cell_type": "code",
   "execution_count": 227,
   "metadata": {},
   "outputs": [],
   "source": [
    "class dslr:\n",
    "\n",
    "\tdef __init__(self):\n",
    "\t\t# No specific initialization needed\n",
    "\t\tpass\n",
    "\n",
    "\tdef fit(self, X, y, batch_size=64, lr=0.1, max_iter=100):\n",
    "\t\t# Standard scaling of the training data\n",
    "\t\tX = self.scale_(X)\n",
    "\t\t# Adding an intercept unit\n",
    "\t\tX = self.fit_intercept_(X)\n",
    "\t\t# Getting all unique classes\n",
    "\t\tself.classes_ = np.unique(y)\n",
    "\t\t# Converting str labels into int\n",
    "\t\tself.class_labels_ = {c: i for i, c in enumerate(self.classes_)}\n",
    "\t\t# Applying one-hot encoding\n",
    "\t\tY = self.one_hot_encoding_(y)\n",
    "\t\t# Initializing loss list to plot and monitor through training\n",
    "\t\tself.loss_ = []\n",
    "\t\t# Initializing weights to 0\n",
    "\t\tself.W_ = np.zeros((len(self.classes_), X.shape[1]))\n",
    "\t\t# Going through epochs\n",
    "\t\tfor i in range(max_iter):\n",
    "\t\t\t# Calculating loss\n",
    "\t\t\tself.loss_.append(self.cross_entropy_(Y, self.predict_(X)))\n",
    "\t\t\t# Getting a random slice of the training set\n",
    "\t\t\tidx = np.random.choice(X.shape[0], batch_size)\n",
    "\t\t\tX_batch, Y_batch = X[idx], Y[idx]\n",
    "\t\t\t# Calculating the error\n",
    "\t\t\terror = Y_batch - self.predict_(X_batch)\n",
    "\t\t\t# Updating the weights\n",
    "\t\t\tself.W_ += lr * np.dot(error.T, X_batch)\n",
    "\t\n",
    "\tdef scale_(self, X):\n",
    "\t\tself.means_ = []\n",
    "\t\tself.std_ = []\n",
    "\t\t# Standard scaling for each feature\n",
    "\t\tfor i in range(X.shape[1]):\n",
    "\t\t\t# Recording the means and standard deviations to use them for the scaling of predictive sets\n",
    "\t\t\tself.means_.append(np.mean(X.iloc[:, i]))\n",
    "\t\t\tself.std_.append(np.std(X.iloc[:, i]))\n",
    "\t\t\t# Scaling\n",
    "\t\t\tX.iloc[:, i] = (X.iloc[:, i] - np.mean(X.iloc[:, i])) / np.std(X.iloc[:, i])\n",
    "\t\treturn X\n",
    "\t\n",
    "\tdef fit_intercept_(self, X):\n",
    "\t\t# Adding an intercept unit\n",
    "\t\treturn np.hstack((np.ones((X.shape[0], 1)), X))\n",
    "\t\n",
    "\tdef one_hot_encoding_(self, y):\n",
    "\t\t# Creating an empty matrix\n",
    "\t\tY = np.zeros((len(y), len(np.unique(y))))\n",
    "\t\tfor i in range(len(np.unique(y))):\n",
    "\t\t\t# Adding 1s to columns\n",
    "\t\t\tY[:, i] = np.multiply(y == np.unique(y)[i], 1)\n",
    "\t\treturn Y\n",
    "\t\n",
    "\tdef cross_entropy_(self, y, y_pred):\n",
    "\t\t# Calculating the loss using the negative cross-entropy\n",
    "\t\treturn - np.mean(y * np.log(y_pred))\n",
    "\t\n",
    "\tdef predict_(self, X):\n",
    "\t\t# Predicting on unseen data\n",
    "\t\treturn self.softmax_(np.dot(X, self.W_.T).reshape(-1, len(self.classes_)))\n",
    "\t\n",
    "\tdef softmax_(self, z):\n",
    "\t\t# Activation function\n",
    "\t\treturn np.exp(z) / np.sum(np.exp(z), axis=1).reshape(-1, 1)\n",
    "\n",
    "\tdef predict(self, X):\n",
    "\t\t# Scaling new data using recorded means and standard deviations\n",
    "\t\tfor i in range(X.shape[1]):\n",
    "\t\t\tX.iloc[:, i] = (X.iloc[:, i] - self.means_[i]) / self.std_[i]\n",
    "\t\t# Calculating probabilities for each class\n",
    "\t\tprobs = self.predict_(self.fit_intercept_(X))\n",
    "\t\t# Getting the maximum probability for each instance\n",
    "\t\tmax_prob = np.argmax(probs, axis=1)\n",
    "\t\tpredictions = []\n",
    "\t\t# Replacing by the initial labels\n",
    "\t\tfor i in range(len(max_prob)):\n",
    "\t\t\tpredictions.append(list(self.class_labels_.keys())[max_prob[i]])\n",
    "\t\treturn predictions\n",
    "\n",
    "\tdef plot_loss(self):\n",
    "\t\t# Plotting loss through epochs\n",
    "\t\tplt.plot(self.loss_)\n",
    "\t\tplt.xlabel('Epochs')\n",
    "\t\tplt.ylabel('Loss')"
   ]
  },
  {
   "cell_type": "code",
   "execution_count": 228,
   "metadata": {},
   "outputs": [],
   "source": [
    "clf = dslr()"
   ]
  },
  {
   "cell_type": "code",
   "execution_count": 229,
   "metadata": {},
   "outputs": [],
   "source": [
    "clf.fit(X_train, Y_train)"
   ]
  },
  {
   "cell_type": "code",
   "execution_count": 230,
   "metadata": {},
   "outputs": [],
   "source": [
    "y_pred = clf.predict(X_test)"
   ]
  },
  {
   "cell_type": "code",
   "execution_count": 231,
   "metadata": {},
   "outputs": [
    {
     "data": {
      "image/png": "[encoded data removed]",
      "text/plain": [
       "<Figure size 432x288 with 1 Axes>"
      ]
     },
     "metadata": {
      "needs_background": "light"
     },
     "output_type": "display_data"
    }
   ],
   "source": [
    "clf.plot_loss()"
   ]
  },
  {
   "cell_type": "code",
   "execution_count": 232,
   "metadata": {},
   "outputs": [
    {
     "data": {
      "text/plain": [
       "0.971875"
      ]
     },
     "execution_count": 232,
     "metadata": {},
     "output_type": "execute_result"
    }
   ],
   "source": [
    "sum(y_pred == Y_test) / len(y_pred)"
   ]
  }
 ],
 "metadata": {
  "kernelspec": {
   "display_name": "base",
   "language": "python",
   "name": "python3"
  },
  "language_info": {
   "codemirror_mode": {
    "name": "ipython",
    "version": 3
   },
   "file_extension": ".py",
   "mimetype": "text/x-python",
   "name": "python",
   "nbconvert_exporter": "python",
   "pygments_lexer": "ipython3",
   "version": "3.9.5"
  },
  "orig_nbformat": 4
 },
 "nbformat": 4,
 "nbformat_minor": 2
}
