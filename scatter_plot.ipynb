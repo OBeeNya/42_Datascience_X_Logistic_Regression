{
 "cells": [
  {
   "cell_type": "code",
   "execution_count": 29,
   "metadata": {},
   "outputs": [],
   "source": [
    "import pandas as pd\n",
    "import matplotlib.pyplot as plt\n",
    "import seaborn as sns\n",
    "import numpy as np"
   ]
  },
  {
   "cell_type": "code",
   "execution_count": 30,
   "metadata": {},
   "outputs": [],
   "source": [
    "df = pd.read_csv('datasets/dataset_train.csv')\n",
    "df.drop('Index',\n",
    "\t\taxis=1,\n",
    "\t\tinplace=True)"
   ]
  },
  {
   "cell_type": "code",
   "execution_count": 31,
   "metadata": {},
   "outputs": [],
   "source": [
    "corr = df.corr(method='pearson')"
   ]
  },
  {
   "cell_type": "code",
   "execution_count": 36,
   "metadata": {},
   "outputs": [],
   "source": [
    "corr = corr.mask(np.tril(np.ones(corr.shape)).astype(bool));"
   ]
  },
  {
   "cell_type": "code",
   "execution_count": 38,
   "metadata": {},
   "outputs": [
    {
     "data": {
      "text/plain": [
       "Defense Against the Dark Arts  Astronomy                       -1.000000\n",
       "Flying                         History of Magic                -0.896283\n",
       "                               Transfiguration                 -0.873673\n",
       "Muggle Studies                 Astronomy                       -0.578511\n",
       "Flying                         Potions                         -0.558594\n",
       "                                                                  ...   \n",
       "Muggle Studies                 Defense Against the Dark Arts    0.576553\n",
       "Potions                        History of Magic                 0.602211\n",
       "Charms                         Herbology                        0.746614\n",
       "                               Muggle Studies                   0.847607\n",
       "Transfiguration                History of Magic                 0.849203\n",
       "Length: 78, dtype: float64"
      ]
     },
     "execution_count": 38,
     "metadata": {},
     "output_type": "execute_result"
    }
   ],
   "source": [
    "corr.unstack().sort_values().dropna()"
   ]
  },
  {
   "cell_type": "code",
   "execution_count": 28,
   "metadata": {},
   "outputs": [
    {
     "data": {
      "image/png": "[encoded data removed]",
      "text/plain": [
       "<Figure size 432x288 with 1 Axes>"
      ]
     },
     "metadata": {
      "needs_background": "light"
     },
     "output_type": "display_data"
    }
   ],
   "source": [
    "plt.scatter(df['Defense Against the Dark Arts'], df['Astronomy'])\n",
    "plt.title('Correlation between Defense Against the Dark Arts and Astronomy')\n",
    "plt.xlabel('Defense Against the Dark Arts')\n",
    "plt.ylabel('Astronomy');"
   ]
  }
 ],
 "metadata": {
  "kernelspec": {
   "display_name": "base",
   "language": "python",
   "name": "python3"
  },
  "language_info": {
   "codemirror_mode": {
    "name": "ipython",
    "version": 3
   },
   "file_extension": ".py",
   "mimetype": "text/x-python",
   "name": "python",
   "nbconvert_exporter": "python",
   "pygments_lexer": "ipython3",
   "version": "3.9.5"
  },
  "orig_nbformat": 4
 },
 "nbformat": 4,
 "nbformat_minor": 2
}
